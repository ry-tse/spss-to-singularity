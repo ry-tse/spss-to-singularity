{
 "cells": [
  {
   "cell_type": "code",
   "execution_count": 1,
   "metadata": {},
   "outputs": [],
   "source": [
    "import csv\n",
    "import itertools\n",
    "import pyreadstat"
   ]
  },
  {
   "cell_type": "code",
   "execution_count": 2,
   "metadata": {},
   "outputs": [],
   "source": [
    "def spss_to_singularity(filename):\n",
    "    \"\"\"\n",
    "    Converting SPSS files to datamap and dataset for use on Singularity.\n",
    "    Reminder to open the output files in Excel and do the following:\n",
    "        (1) Save the files within Excel to convert floats to ints for the dataset\n",
    "        (2) Confirm the encoding is CSV, specifically (i.e. not UTF-8)\n",
    "    \"\"\"\n",
    "\n",
    "    \n",
    "    pn = filename.split(\".\",1)[0]\n",
    "    df, meta = pyreadstat.read_sav(filename, encoding=\"latin1\")\n",
    "    \n",
    "    #---------------------------------------------\n",
    "    # Compiling Datamap\n",
    "    #---------------------------------------------\n",
    "    dmap_rows = []\n",
    "    for q in meta.column_names:\n",
    "        row_0, row_1 = [], []\n",
    "\n",
    "        row_0 = [q, 'integer', '{}', meta.column_names_to_labels.get(q).split(': ',1)[1]] # variable labels\n",
    "\n",
    "        try: row_1 = list(itertools.chain(*list(meta.value_labels.get(meta.variable_to_label.get(q)).items()))) # value labels\n",
    "        except: pass # not all vars have value labels\n",
    "        for i in range(len(row_1)):\n",
    "            if (i%2)==0: row_1[i] = int(row_1[i]) # converting floats to ints so Singularity can read it\n",
    "\n",
    "        dmap_rows.append(row_0 + row_1) #add them all together\n",
    "        \n",
    "    #---------------------------------------------\n",
    "    # Creating Output Files\n",
    "    #---------------------------------------------\n",
    "    # Datamap\n",
    "    with open(f'{pn}_datamap.csv', 'w', encoding='UTF8', newline='') as f:\n",
    "        writer = csv.writer(f)\n",
    "        writer.writerows(dmap_rows)\n",
    "        \n",
    "    # Dataset\n",
    "    df.to_csv(f'{pn}_dataset.csv',index=False)\n",
    "    \n",
    "    return"
   ]
  },
  {
   "cell_type": "code",
   "execution_count": 3,
   "metadata": {},
   "outputs": [],
   "source": [
    "spss_to_singularity('2108140.sav')"
   ]
  },
  {
   "cell_type": "code",
   "execution_count": null,
   "metadata": {},
   "outputs": [],
   "source": []
  }
 ],
 "metadata": {
  "kernelspec": {
   "display_name": "Python 3",
   "language": "python",
   "name": "python3"
  },
  "language_info": {
   "codemirror_mode": {
    "name": "ipython",
    "version": 3
   },
   "file_extension": ".py",
   "mimetype": "text/x-python",
   "name": "python",
   "nbconvert_exporter": "python",
   "pygments_lexer": "ipython3",
   "version": "3.8.3"
  }
 },
 "nbformat": 4,
 "nbformat_minor": 4
}
